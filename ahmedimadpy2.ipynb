{
  "cells": [
    {
      "cell_type": "markdown",
      "metadata": {
        "id": "iscG0X6EEJwa"
      },
      "source": [
        "# Practice    \n",
        "# Enjoy^_^"
      ]
    },
    {
      "cell_type": "markdown",
      "metadata": {
        "id": "6grI7_-oEJwc"
      },
      "source": [
        "# 1. Python Flow Control"
      ]
    },
    {
      "cell_type": "markdown",
      "metadata": {
        "id": "PEaa7CR9EJwd"
      },
      "source": [
        "## 1. Write a Python program to find those numbers which are divisible by 7 and multiples of 5, between 1500 and 2700 (both included).\n",
        "\n",
        "\n",
        "\n"
      ]
    },
    {
      "cell_type": "code",
      "execution_count": 21,
      "metadata": {
        "colab": {
          "base_uri": "https://localhost:8080/"
        },
        "id": "N3amTDQKEJwd",
        "outputId": "cf197277-be96-4e70-87e7-f89b31dc9129"
      },
      "outputs": [
        {
          "output_type": "stream",
          "name": "stdout",
          "text": [
            "1505,1540,1575,1610,1645,1680,1715,1750,1785,1820,1855,1890,1925,1960,1995,2030,2065,2100,2135,2170,2205,2240,2275,2310,2345,2380,2415,2450,2485,2520,2555,2590,2625,2660,2695\n"
          ]
        }
      ],
      "source": [
        "nl=[]\n",
        "for x in range(1500, 2701):\n",
        "  if (x%7==0) and (x%5==0):\n",
        "    nl.append(str(x))\n",
        "print (','.join(nl))\n",
        ""
      ]
    },
    {
      "cell_type": "markdown",
      "metadata": {
        "id": "JtQbMIb6EJwe"
      },
      "source": [
        "## 2. Write a Python program to guess a number between 1 and 9.\n",
        "Note : User is prompted to enter a guess. If the user guesses wrong then the prompt appears again until the guess is correct, on successful guess, user will get a \"Well guessed!\" message, and the program will exit."
      ]
    },
    {
      "cell_type": "code",
      "execution_count": 25,
      "metadata": {
        "colab": {
          "base_uri": "https://localhost:8080/"
        },
        "id": "3jwaYFYVEJwf",
        "outputId": "bfdab593-8ffb-4f81-a468-1bb2be6596fa"
      },
      "outputs": [
        {
          "output_type": "stream",
          "name": "stdout",
          "text": [
            "Guess the number between 1 and 9:\n",
            "5\n",
            "Too high. Try again.\n",
            "2\n",
            "Too low. Try again.\n",
            "4\n",
            "Correct! You guessed the number in 3 attempts.\n"
          ]
        }
      ],
      "source": [
        "import random\n",
        "\n",
        "# Generate a random number between 1 and 9\n",
        "secret_number = random.randint(1, 9)\n",
        "attempts = 0  # Counter for the number of attempts\n",
        "\n",
        "print(\"Guess the number between 1 and 9:\")\n",
        "\n",
        "while True:\n",
        "    try:\n",
        "        user_guess = int(input())  # Take user input and convert to an integer\n",
        "        attempts += 1  # Increment attempts counter\n",
        "\n",
        "        if user_guess < secret_number:\n",
        "            print(\"Too low. Try again.\")\n",
        "        elif user_guess > secret_number:\n",
        "            print(\"Too high. Try again.\")\n",
        "        else:\n",
        "            print(f\"Correct! You guessed the number in {attempts} attempts.\")\n",
        "            break  # Exit the loop once the correct guess is made\n",
        "    except ValueError:\n",
        "        print(\"Please enter a valid number between 1 and 9.\")\n"
      ]
    },
    {
      "cell_type": "markdown",
      "metadata": {
        "id": "x_P_ZpRwEJwg"
      },
      "source": [
        "## 3. Write a Python program that prints all the numbers from 0 to 6 except 3 and 6.\n",
        "Note : Use 'continue' statement.\n",
        "Expected Output : 0 1 2 4 5\n"
      ]
    },
    {
      "cell_type": "code",
      "source": [
        "for x in range(7):\n",
        "  if (x == 3 or x == 6):\n",
        "    continue\n",
        "  print(x, end=' ')"
      ],
      "metadata": {
        "colab": {
          "base_uri": "https://localhost:8080/"
        },
        "id": "yVU8rvaqLftk",
        "outputId": "c7a8522f-b630-4b24-cf9a-2f6f14ad4b46"
      },
      "execution_count": 26,
      "outputs": [
        {
          "output_type": "stream",
          "name": "stdout",
          "text": [
            "0 1 2 4 5 "
          ]
        }
      ]
    },
    {
      "cell_type": "markdown",
      "metadata": {
        "id": "GtrbnYhgEJwh"
      },
      "source": [
        "## 4. Write a Python program to construct the following pattern, using a nested for loop.\n",
        "```\n",
        "*\n",
        "* *\n",
        "* * *\n",
        "* * * *\n",
        "* * * * *\n",
        "* * * *\n",
        "* * *\n",
        "* *\n",
        "*\n",
        "```"
      ]
    },
    {
      "cell_type": "code",
      "execution_count": 27,
      "metadata": {
        "colab": {
          "base_uri": "https://localhost:8080/"
        },
        "id": "6x0RhXJJEJwh",
        "outputId": "5a2308fd-234f-41c7-a8aa-be63de86ce6d"
      },
      "outputs": [
        {
          "output_type": "stream",
          "name": "stdout",
          "text": [
            "* \r\n",
            "* * \r\n",
            "* * * \r\n",
            "* * * * \r\n",
            "* * * * * \r\n",
            "* * * * \r\n",
            "* * * \r\n",
            "* * \r\n",
            "* \r\n",
            "\r\n"
          ]
        }
      ],
      "source": [
        "r = 5\n",
        "for i in range(0, r):\n",
        "    for j in range(0, i + 1):\n",
        "        print(\"*\", end=' ')\n",
        "    print(\"\\r\")\n",
        "\n",
        "for i in range(r, 0, -1):\n",
        "    for j in range(0, i - 1):\n",
        "        print(\"*\", end=' ')\n",
        "    print(\"\\r\")"
      ]
    },
    {
      "cell_type": "code",
      "execution_count": 28,
      "metadata": {
        "colab": {
          "base_uri": "https://localhost:8080/"
        },
        "id": "yiGQ4wlTEJwi",
        "outputId": "74dd27e3-fa2f-4534-f177-eca52846f9f8"
      },
      "outputs": [
        {
          "output_type": "stream",
          "name": "stdout",
          "text": [
            "       * \n",
            "      * * \n",
            "     * * * \n",
            "    * * * * \n",
            "   * * * * * \n",
            "  * * * * * * \n",
            " * * * * * * * \n",
            "* * * * * * * * \n",
            " * * * * * * * \n",
            "  * * * * * * \n",
            "   * * * * * \n",
            "    * * * * \n",
            "     * * * \n",
            "      * * \n",
            "       * \n"
          ]
        }
      ],
      "source": [
        "r = 8\n",
        "for i in range(r):\n",
        "    for j in range(r - i - 1):\n",
        "        print(\" \", end=\"\")\n",
        "    for j in range(i + 1):\n",
        "        print(\"* \", end=\"\")\n",
        "    print()\n",
        "\n",
        "for i in range(r - 1, 0, -1):\n",
        "    for j in range(r - i):\n",
        "        print(\" \", end=\"\")\n",
        "    for j in range(i):\n",
        "        print(\"* \", end=\"\")\n",
        "    print()"
      ]
    },
    {
      "cell_type": "markdown",
      "metadata": {
        "id": "3ASNcENNEJwi"
      },
      "source": [
        "## 5. Write a Python program that accepts a word from the user and reverses it.\n",
        "\n"
      ]
    },
    {
      "cell_type": "code",
      "source": [
        "def reverse_word():\n",
        "\n",
        "  word = input(\"Enter a word: \")\n",
        "  reversed_word = word[::-1]\n",
        "  print(\"Reversed word:\", reversed_word)\n",
        "\n",
        "if __name__ == \"__main__\":\n",
        "  reverse_word()"
      ],
      "metadata": {
        "colab": {
          "base_uri": "https://localhost:8080/"
        },
        "id": "IafqkhzgL0w0",
        "outputId": "2dcde3ef-b59f-4613-975b-47ed2fe16bd6"
      },
      "execution_count": 29,
      "outputs": [
        {
          "output_type": "stream",
          "name": "stdout",
          "text": [
            "Enter a word: ahmed\n",
            "Reversed word: demha\n"
          ]
        }
      ]
    },
    {
      "cell_type": "markdown",
      "metadata": {
        "id": "LvCeEJMQEJwj"
      },
      "source": [
        "## 6. Write a Python program to count the number of even and odd numbers in a series of numbers\n",
        "Sample numbers : numbers = (1, 2, 3, 4, 5, 6, 7, 8, 9)\n",
        "\n",
        "Expected Output :\n",
        "\n",
        "Number of even numbers : 4\n",
        "\n",
        "Number of odd numbers : 5"
      ]
    },
    {
      "cell_type": "code",
      "execution_count": 30,
      "metadata": {
        "colab": {
          "base_uri": "https://localhost:8080/"
        },
        "id": "7hkcdOqkEJwj",
        "outputId": "67c299bd-d0a0-44e0-d9da-9cbdf46652ae"
      },
      "outputs": [
        {
          "output_type": "stream",
          "name": "stdout",
          "text": [
            "Number of even numbers : 4\n",
            "Number of odd numbers : 5\n"
          ]
        }
      ],
      "source": [
        "numbers = (1, 2, 3, 4, 5, 6, 7, 8, 9)\n",
        "count_odd = 0\n",
        "count_even = 0\n",
        "for x in numbers:\n",
        "        if not x % 2:\n",
        "    \t     count_even+=1\n",
        "        else:\n",
        "    \t     count_odd+=1\n",
        "print(\"Number of even numbers :\",count_even)\n",
        "print(\"Number of odd numbers :\",count_odd)"
      ]
    },
    {
      "cell_type": "markdown",
      "metadata": {
        "id": "vjc4c-OTEJwj"
      },
      "source": [
        "## 7. Write a Python program to print the the first alphabet pattern 'A-Z' in your name .\n",
        "for example  Expected Output:\n",
        "\n",
        "\n",
        "```\n",
        "  ***                                                                   \n",
        " *   *                                                                  \n",
        " *   *                                                                  \n",
        " *****                                                                  \n",
        " *   *                                                                  \n",
        " *   *                                                                  \n",
        " *   *\n",
        "```"
      ]
    },
    {
      "cell_type": "code",
      "execution_count": 31,
      "metadata": {
        "colab": {
          "base_uri": "https://localhost:8080/"
        },
        "id": "QX7EXDG2EJwk",
        "outputId": "83cfad47-81f7-4a42-b58d-49f49c3c9618"
      },
      "outputs": [
        {
          "output_type": "stream",
          "name": "stdout",
          "text": [
            "  ***  \n",
            " *   * \n",
            " *   * \n",
            " ***** \n",
            " *   * \n",
            " *   * \n",
            " *   * \n"
          ]
        }
      ],
      "source": [
        "def print_alphabet_pattern(name):\n",
        "\n",
        "\n",
        "  # We'll just print a simple \"A\" pattern as an example.\n",
        "  print(\"  ***  \")\n",
        "  print(\" *   * \")\n",
        "  print(\" *   * \")\n",
        "  print(\" ***** \")\n",
        "  print(\" *   * \")\n",
        "  print(\" *   * \")\n",
        "  print(\" *   * \")\n",
        "\n",
        "\n",
        "if __name__ == \"__main__\":\n",
        "  your_name = \"Your Name\"\n",
        "  print_alphabet_pattern(your_name)"
      ]
    },
    {
      "cell_type": "markdown",
      "metadata": {
        "id": "m0Haf2hAEJwk"
      },
      "source": [
        "## 8.  Write a Python program to construct the following pattern, using a nested loop number.\n",
        "Expected Output:\n",
        "\n",
        "\n",
        "``\n",
        "1\n",
        "22\n",
        "333\n",
        "4444\n",
        "55555\n",
        "666666\n",
        "7777777\n",
        "88888888\n",
        "999999999\n",
        "``"
      ]
    },
    {
      "cell_type": "code",
      "execution_count": 34,
      "metadata": {
        "colab": {
          "base_uri": "https://localhost:8080/"
        },
        "id": "Z2PyNP4sEJwk",
        "outputId": "5c752bbe-0ef8-46f3-f859-b6d35a530812"
      },
      "outputs": [
        {
          "output_type": "stream",
          "name": "stdout",
          "text": [
            "1 22 333 4444 55555 666666 7777777 88888888 999999999 "
          ]
        }
      ],
      "source": [
        "# Loop through numbers from 1 to 9\n",
        "for i in range(1, 10):\n",
        "    # Print the number 'i', 'i' times\n",
        "    print(str(i) * i, end=\" \")\n"
      ]
    },
    {
      "cell_type": "markdown",
      "metadata": {
        "id": "ucl2DHXWEJwk"
      },
      "source": [
        "## 9. Write a Python program to create the multiplication table (from 1 to 10) of a number.\n",
        "Expected Output:\n",
        "\n",
        "Input a number: 6                                                       \n",
        "6 x 1 = 6                                                               \n",
        "6 x 2 = 12                                                              \n",
        "6 x 3 = 18                                                              \n",
        "6 x 4 = 24                                                              \n",
        "6 x 5 = 30                                                              \n",
        "6 x 6 = 36                                                              \n",
        "6 x 7 = 42                                                              \n",
        "6 x 8 = 48                                                              \n",
        "6 x 9 = 54                                                              \n",
        "6 x 10 = 60\n"
      ]
    },
    {
      "cell_type": "code",
      "execution_count": 33,
      "metadata": {
        "colab": {
          "base_uri": "https://localhost:8080/"
        },
        "id": "MenS5C3XEJwl",
        "outputId": "276904f4-d523-4d19-b2e6-f747329dbfd9"
      },
      "outputs": [
        {
          "output_type": "stream",
          "name": "stdout",
          "text": [
            "Enter a number: 7\n",
            "7 x 1 = 7\n",
            "7 x 2 = 14\n",
            "7 x 3 = 21\n",
            "7 x 4 = 28\n",
            "7 x 5 = 35\n",
            "7 x 6 = 42\n",
            "7 x 7 = 49\n",
            "7 x 8 = 56\n",
            "7 x 9 = 63\n",
            "7 x 10 = 70\n"
          ]
        }
      ],
      "source": [
        "def multiplication_table(number):\n",
        "\n",
        "  for i in range(1, 11):\n",
        "    print(f\"{number} x {i} = {number * i}\")\n",
        "\n",
        "# Get input from the user\n",
        "number = int(input(\"Enter a number: \"))\n",
        "\n",
        "# Generate and print the multiplication table\n",
        "multiplication_table(number)"
      ]
    },
    {
      "cell_type": "markdown",
      "metadata": {
        "id": "edqpPyZoEJwl"
      },
      "source": [
        "## 10. Write a Python program to calculate the sum and average of n integer numbers (input from the user). Input 0 to finish."
      ]
    },
    {
      "cell_type": "code",
      "execution_count": 35,
      "metadata": {
        "colab": {
          "base_uri": "https://localhost:8080/"
        },
        "id": "Qfa1b8NUEJwl",
        "outputId": "355760e1-2cad-45ef-a2ee-0d05ec1fe4c8"
      },
      "outputs": [
        {
          "output_type": "stream",
          "name": "stdout",
          "text": [
            "Enter an integer (0 to finish): 5\n",
            "Enter an integer (0 to finish): 2\n",
            "Enter an integer (0 to finish): 0\n",
            "Sum: 7\n",
            "Average: 3.5\n"
          ]
        }
      ],
      "source": [
        "\n",
        "\n",
        "def calculate_sum_and_average():\n",
        "\n",
        "  nums = []\n",
        "  while True:\n",
        "    try:\n",
        "      num = int(input(\"Enter an integer (0 to finish): \"))\n",
        "      if num == 0:\n",
        "        break\n",
        "      nums.append(num)\n",
        "    except ValueError:\n",
        "      print(\"Invalid input. Please enter an integer.\")\n",
        "\n",
        "  if not nums:\n",
        "    print(\"No numbers entered.\")\n",
        "    return\n",
        "\n",
        "  SoF = sum(nums)\n",
        "  average = SoF / len(nums)\n",
        "\n",
        "  print(f\"Sum: {SoF}\")\n",
        "  print(f\"Average: {average}\")\n",
        "\n",
        "\n",
        "if __name__ == \"__main__\":\n",
        "  calculate_sum_and_average()"
      ]
    },
    {
      "cell_type": "markdown",
      "metadata": {
        "id": "dJcTjhrkEJwl"
      },
      "source": [
        "# 11-Python Program to Print the Fibonacci sequence\n",
        "\n",
        "The Fibonacci numbers are the numbers in the following integer sequence. 0, 1, 1, 2, 3, 5, 8, 13, 21, 34, 55, 89, 144, …….. In mathematical terms, the sequence Fn of Fibonacci numbers is defined by the recurrence relation.\n",
        "\n",
        "\n",
        "![image.png](attachment:image.png)"
      ]
    },
    {
      "cell_type": "code",
      "source": [
        "def fibonacci_sequence(n):\n",
        "\n",
        "  if n <= 0:\n",
        "    return []\n",
        "  elif n == 1:\n",
        "    return [0]\n",
        "  else:\n",
        "    list_fib = [0, 1]\n",
        "    while len(list_fib) < n:\n",
        "      next_fib = list_fib[-1] + list_fib[-2]\n",
        "      list_fib.append(next_fib)\n",
        "    return list_fib\n",
        "\n",
        "# Get input from the user\n",
        "num_terms = int(input(\"Enter the number of terms: \"))\n",
        "\n",
        "# Generate and print the Fibonacci sequence\n",
        "fib_sequence = fibonacci_sequence(num_terms)\n",
        "print(\"Fibonacci Sequence:\", fib_sequence)"
      ],
      "metadata": {
        "colab": {
          "base_uri": "https://localhost:8080/"
        },
        "id": "RyruYcLMMu8c",
        "outputId": "d5dd564f-cf21-4f37-c695-edd4512f1edc"
      },
      "execution_count": 36,
      "outputs": [
        {
          "output_type": "stream",
          "name": "stdout",
          "text": [
            "Enter the number of terms: 5\n",
            "Fibonacci Sequence: [0, 1, 1, 2, 3]\n"
          ]
        }
      ]
    },
    {
      "cell_type": "markdown",
      "metadata": {
        "id": "NQ9_iDTnEJwm"
      },
      "source": [
        "# Finding the Maximum Value in a List"
      ]
    },
    {
      "cell_type": "code",
      "execution_count": 37,
      "metadata": {
        "colab": {
          "base_uri": "https://localhost:8080/"
        },
        "id": "KzPmlsYPEJwm",
        "outputId": "cf0af0de-31bb-40ce-eb0b-61ffd06c3a3e"
      },
      "outputs": [
        {
          "output_type": "stream",
          "name": "stdout",
          "text": [
            "The maximum value in the list is: 9\n"
          ]
        }
      ],
      "source": [
        "def find_maximum(numbers):\n",
        "  \"\"\"Finds the maximum value in a list of numbers.\"\"\"\n",
        "  if not numbers:\n",
        "    return None  # Handle empty list case\n",
        "\n",
        "  maximum = numbers[0]\n",
        "  for number in numbers:\n",
        "    if number > maximum:\n",
        "      maximum = number\n",
        "  return maximum\n",
        "\n",
        "# Example usage:\n",
        "my_list = [1, 5, 2, 9, 3, 7]\n",
        "max_value = find_maximum(my_list)\n",
        "\n",
        "if max_value is not None:\n",
        "  print(\"The maximum value in the list is:\", max_value)\n",
        "else:\n",
        "  print(\"The list is empty.\")"
      ]
    },
    {
      "cell_type": "markdown",
      "metadata": {
        "id": "AjxOT1LCEJwm"
      },
      "source": [
        "# Counting Vowels in a String"
      ]
    },
    {
      "cell_type": "code",
      "execution_count": 38,
      "metadata": {
        "colab": {
          "base_uri": "https://localhost:8080/"
        },
        "id": "5Wxcw04eEJwm",
        "outputId": "bff23243-0fb8-48f0-c4b6-9ca6440cb22c"
      },
      "outputs": [
        {
          "output_type": "stream",
          "name": "stdout",
          "text": [
            "The number of vowels in 'Hello, World!' is: 3\n"
          ]
        }
      ],
      "source": [
        "def count_vowels(input_string):\n",
        "\n",
        "  vowels = \"aeiouAEIOU\"\n",
        "  vowel_count = 0\n",
        "  for char in input_string:\n",
        "    if char in vowels:\n",
        "      vowel_count += 1\n",
        "  return vowel_count\n",
        "\n",
        "\n",
        "# Example usage:\n",
        "my_string = \"Hello, World!\"\n",
        "num_vowels = count_vowels(my_string)\n",
        "print(f\"The number of vowels in '{my_string}' is: {num_vowels}\")"
      ]
    },
    {
      "cell_type": "markdown",
      "metadata": {
        "id": "wdkA2U-DEJwn"
      },
      "source": [
        "# Finding Prime Numbers within a Range"
      ]
    },
    {
      "cell_type": "code",
      "execution_count": 39,
      "metadata": {
        "colab": {
          "base_uri": "https://localhost:8080/"
        },
        "id": "m6z8RY7xEJwn",
        "outputId": "1a35ff2e-8408-49b5-f05f-8e373ce139b0"
      },
      "outputs": [
        {
          "output_type": "stream",
          "name": "stdout",
          "text": [
            "Prime numbers between 10 and 50: [11, 13, 17, 19, 23, 29, 31, 37, 41, 43, 47]\n"
          ]
        }
      ],
      "source": [
        "def find_prime_numbers(start, end):\n",
        "\n",
        "  prime_numbers = []\n",
        "  for num in range(start, end + 1):\n",
        "    if num > 1:\n",
        "      is_prime = True\n",
        "      for i in range(2, int(num**0.5) + 1):\n",
        "        if num % i == 0:\n",
        "          is_prime = False\n",
        "          break\n",
        "      if is_prime:\n",
        "        prime_numbers.append(num)\n",
        "  return prime_numbers\n",
        "\n",
        "# Example usage:\n",
        "start_range = 10\n",
        "end_range = 50\n",
        "prime_list = find_prime_numbers(start_range, end_range)\n",
        "print(f\"Prime numbers between {start_range} and {end_range}: {prime_list}\")"
      ]
    },
    {
      "cell_type": "markdown",
      "metadata": {
        "id": "oSu21kJTEJwn"
      },
      "source": [
        "# A Program that Simulating a Basic ATM Withdrawal"
      ]
    },
    {
      "cell_type": "code",
      "execution_count": 40,
      "metadata": {
        "colab": {
          "base_uri": "https://localhost:8080/"
        },
        "id": "LPGtxdNbEJwn",
        "outputId": "f4a1c307-7d3d-4403-b48f-e805cd3495ba"
      },
      "outputs": [
        {
          "output_type": "stream",
          "name": "stdout",
          "text": [
            "Welcome to the ATM!\n",
            "\n",
            "Choose an option:\n",
            "1. Check Balance\n",
            "2. Withdraw Funds\n",
            "3. Exit\n",
            "Enter your choice (1-3): 1\n",
            "Your balance is: $1000\n",
            "\n",
            "Choose an option:\n",
            "1. Check Balance\n",
            "2. Withdraw Funds\n",
            "3. Exit\n",
            "Enter your choice (1-3): 2\n",
            "Enter the amount to withdraw: $500\n",
            "$500.0 withdrawn successfully.\n",
            "Your new balance is: $500.0\n",
            "\n",
            "Choose an option:\n",
            "1. Check Balance\n",
            "2. Withdraw Funds\n",
            "3. Exit\n",
            "Enter your choice (1-3): 3\n",
            "Thank you for using the ATM!\n"
          ]
        }
      ],
      "source": [
        "def atm_withdrawal():\n",
        "\n",
        "  balance = 1000  # Initial account balance\n",
        "\n",
        "  print(\"Welcome to the ATM!\")\n",
        "\n",
        "  while True:\n",
        "    print(\"\\nChoose an option:\")\n",
        "    print(\"1. Check Balance\")\n",
        "    print(\"2. Withdraw Funds\")\n",
        "    print(\"3. Exit\")\n",
        "\n",
        "    choice = input(\"Enter your choice (1-3): \")\n",
        "\n",
        "    if choice == '1':\n",
        "      print(f\"Your balance is: ${balance}\")\n",
        "    elif choice == '2':\n",
        "      amount = float(input(\"Enter the amount to withdraw: $\"))\n",
        "      if amount > balance:\n",
        "        print(\"Insufficient funds.\")\n",
        "      elif amount <= 0:\n",
        "        print(\"Invalid withdrawal amount.\")\n",
        "      else:\n",
        "        balance -= amount\n",
        "        print(f\"${amount} withdrawn successfully.\")\n",
        "        print(f\"Your new balance is: ${balance}\")\n",
        "    elif choice == '3':\n",
        "      print(\"Thank you for using the ATM!\")\n",
        "      break\n",
        "    else:\n",
        "      print(\"Invalid choice. Please try again.\")\n",
        "\n",
        "\n",
        "if __name__ == \"__main__\":\n",
        "  atm_withdrawal()"
      ]
    },
    {
      "cell_type": "markdown",
      "metadata": {
        "id": "XhZD0pJeEJwo"
      },
      "source": [
        "# Finding Common Elements in Two Lists"
      ]
    },
    {
      "cell_type": "code",
      "execution_count": 41,
      "metadata": {
        "colab": {
          "base_uri": "https://localhost:8080/"
        },
        "id": "v5xqzUfFEJwo",
        "outputId": "4b6f1da1-0516-4d47-d882-c0e1ae0146e7"
      },
      "outputs": [
        {
          "output_type": "stream",
          "name": "stdout",
          "text": [
            "Common elements: [3, 5]\n"
          ]
        }
      ],
      "source": [
        "list1 = [1, 2, 3, 4, 5]\n",
        "list2 = [3, 5, 6, 7, 8]\n",
        "\n",
        "common_elements = []\n",
        "for element in list1:\n",
        "  if element in list2:\n",
        "    common_elements.append(element)\n",
        "\n",
        "print(\"Common elements:\", common_elements)"
      ]
    },
    {
      "cell_type": "markdown",
      "metadata": {
        "id": "EMuRX6VfEJwo"
      },
      "source": [
        "# Calculating Factorial of a Number"
      ]
    },
    {
      "cell_type": "code",
      "source": [
        "def factorial(n):\n",
        "\n",
        "  if n == 0:\n",
        "    return 1\n",
        "  else:\n",
        "    return n * factorial(n - 1)\n",
        "\n",
        "# Get input from the user\n",
        "number = int(input(\"Enter a number: \"))\n",
        "\n",
        "# Calculate and print the factorial\n",
        "fact = factorial(number)\n",
        "print(f\"The factorial of {number} is: {fact}\")"
      ],
      "metadata": {
        "colab": {
          "base_uri": "https://localhost:8080/"
        },
        "id": "ZWwJcMaHNZIG",
        "outputId": "21d2953b-2b2d-438c-9328-874232625542"
      },
      "execution_count": 42,
      "outputs": [
        {
          "output_type": "stream",
          "name": "stdout",
          "text": [
            "Enter a number: 5\n",
            "The factorial of 5 is: 120\n"
          ]
        }
      ]
    },
    {
      "cell_type": "markdown",
      "metadata": {
        "id": "7oe2vtsyEJwp"
      },
      "source": []
    },
    {
      "cell_type": "markdown",
      "metadata": {
        "id": "dXfloeXGEJwp"
      },
      "source": [
        "# Validating User Input with While Loop"
      ]
    },
    {
      "cell_type": "code",
      "source": [
        "def validate_user_input():\n",
        "\n",
        "  while True:\n",
        "    try:\n",
        "      user_input = int(input(\"Enter an integer between 1 and 10: \"))\n",
        "      if 1 <= user_input <= 10:\n",
        "        print(\"Valid input:\", user_input)\n",
        "        break\n",
        "      else:\n",
        "        print(\"Input must be between 1 and 10. Please try again.\")\n",
        "    except ValueError:\n",
        "      print(\"Invalid input. Please enter an integer.\")\n",
        "\n",
        "if __name__ == \"__main__\":\n",
        "  validate_user_input()"
      ],
      "metadata": {
        "colab": {
          "base_uri": "https://localhost:8080/"
        },
        "id": "J2nkAJSTNfKL",
        "outputId": "7547a8dc-1a26-4ea6-805b-e3234d357940"
      },
      "execution_count": 43,
      "outputs": [
        {
          "output_type": "stream",
          "name": "stdout",
          "text": [
            "Enter an integer between 1 and 10: 2\n",
            "Valid input: 2\n"
          ]
        }
      ]
    },
    {
      "cell_type": "markdown",
      "metadata": {
        "id": "H5I0-QFrEJwp"
      },
      "source": []
    },
    {
      "cell_type": "markdown",
      "metadata": {
        "id": "Xn_9LtRNEJwp"
      },
      "source": [
        "# Finding the Sum of Digits of a Number"
      ]
    },
    {
      "cell_type": "code",
      "source": [
        "def sum_of_digits(number):\n",
        "  sum_digits = 0\n",
        "  for digit in str(number):\n",
        "    sum_digits += int(digit)\n",
        "  return sum_digits\n",
        "\n",
        "number = 12345\n",
        "sum_digits = sum_of_digits(number)\n",
        "print(f\"The sum of digits of {number} is: {sum_digits}\")"
      ],
      "metadata": {
        "colab": {
          "base_uri": "https://localhost:8080/"
        },
        "id": "aXg4pzlmNmWj",
        "outputId": "f37a1664-34bc-4f3e-8e64-3178afd969a3"
      },
      "execution_count": 44,
      "outputs": [
        {
          "output_type": "stream",
          "name": "stdout",
          "text": [
            "The sum of digits of 12345 is: 15\n"
          ]
        }
      ]
    },
    {
      "cell_type": "markdown",
      "metadata": {
        "id": "9jhqRfKtEJwq"
      },
      "source": []
    },
    {
      "cell_type": "markdown",
      "metadata": {
        "id": "Z5V7fQYwEJwq"
      },
      "source": [
        "# Checking for Palindrome Strings"
      ]
    },
    {
      "cell_type": "code",
      "source": [
        "def is_palindrome(text):\n",
        "  processed_text = text.lower().replace(\" \", \"\")  # Ignore case and spaces\n",
        "  return processed_text == processed_text[::-1]\n",
        "\n",
        "# Example usage:\n",
        "string1 = \"ahmad\"\n",
        "string2 = \"radar\"\n",
        "string3 = \"A footballer\"\n",
        "\n",
        "print(f\"'{string1}' is a palindrome: {is_palindrome(string1)}\")\n",
        "print(f\"'{string2}' is a palindrome: {is_palindrome(string2)}\")\n",
        "print(f\"'{string3}' is a palindrome: {is_palindrome(string3)}\")"
      ],
      "metadata": {
        "colab": {
          "base_uri": "https://localhost:8080/"
        },
        "id": "4noxmhrHNum1",
        "outputId": "1592c4c8-fc0a-49dd-d56e-c84bdac33662"
      },
      "execution_count": 49,
      "outputs": [
        {
          "output_type": "stream",
          "name": "stdout",
          "text": [
            "'ahmad' is a palindrome: False\n",
            "'radar' is a palindrome: True\n",
            "'A footballer' is a palindrome: False\n"
          ]
        }
      ]
    },
    {
      "cell_type": "markdown",
      "metadata": {
        "id": "49ESDFCjEJwz"
      },
      "source": []
    },
    {
      "cell_type": "markdown",
      "metadata": {
        "id": "O9yCYotxEJwz"
      },
      "source": [
        "# Creating a Dictionary from Two Lists"
      ]
    },
    {
      "cell_type": "code",
      "source": [
        "k = ['a', 'b', 'c']\n",
        "vals = [1, 2, 3]\n",
        "\n",
        "my_dict = dict(zip(k, vals))\n",
        "my_dict"
      ],
      "metadata": {
        "colab": {
          "base_uri": "https://localhost:8080/"
        },
        "id": "Ao4aQ8uZOLJh",
        "outputId": "1b9d0084-25e7-4d29-f173-49d438a03b22"
      },
      "execution_count": 50,
      "outputs": [
        {
          "output_type": "execute_result",
          "data": {
            "text/plain": [
              "{'a': 1, 'b': 2, 'c': 3}"
            ]
          },
          "metadata": {},
          "execution_count": 50
        }
      ]
    },
    {
      "cell_type": "markdown",
      "metadata": {
        "id": "06f_OLetEJwz"
      },
      "source": []
    },
    {
      "cell_type": "markdown",
      "metadata": {
        "id": "Xad7a4cwEJw0"
      },
      "source": [
        "# Simulating a Simple Password Check"
      ]
    },
    {
      "cell_type": "code",
      "source": [
        "def check_password(password):\n",
        "\n",
        "  if len(password) < 8:\n",
        "    return False  # Password must be at least 8 characters long\n",
        "\n",
        "  has_uppercase = False\n",
        "  has_lowercase = False\n",
        "  has_digit = False\n",
        "  has_special_char = False\n",
        "\n",
        "  for char in password:\n",
        "    if 'A' <= char <= 'Z':\n",
        "      has_uppercase = True\n",
        "    elif 'a' <= char <= 'z':\n",
        "      has_lowercase = True\n",
        "    elif '0' <= char <= '9':\n",
        "      has_digit = True\n",
        "    elif not char.isalnum():  # Check for special characters\n",
        "      has_special_char = True\n",
        "\n",
        "  return has_uppercase and has_lowercase and has_digit and has_special_char\n",
        "\n",
        "# Example usage:\n",
        "password1 = \"Password123!\"\n",
        "password2 = \"weakpassword\"\n",
        "password3 = \"P@$$wOrd\"\n",
        "\n",
        "if check_password(password1):\n",
        "  print(f\"'{password1}' is a valid password.\")\n",
        "else:\n",
        "  print(f\"'{password1}' is not a valid password.\")\n",
        "\n",
        "if check_password(password2):\n",
        "  print(f\"'{password2}' is a valid password.\")\n",
        "else:\n",
        "  print(f\"'{password2}' is not a valid password.\")\n",
        "\n",
        "if check_password(password3):\n",
        "  print(f\"'{password3}' is a valid password.\")\n",
        "else:\n",
        "  print(f\"'{password3}' is not a valid password.\")"
      ],
      "metadata": {
        "colab": {
          "base_uri": "https://localhost:8080/"
        },
        "id": "cdu__66gOQSd",
        "outputId": "c570a520-2f21-4762-dddd-45c6cbdda058"
      },
      "execution_count": 51,
      "outputs": [
        {
          "output_type": "stream",
          "name": "stdout",
          "text": [
            "'Password123!' is a valid password.\n",
            "'weakpassword' is not a valid password.\n",
            "'P@$$wOrd' is not a valid password.\n"
          ]
        }
      ]
    },
    {
      "cell_type": "markdown",
      "metadata": {
        "id": "Lb26CxrUEJw0"
      },
      "source": []
    },
    {
      "cell_type": "markdown",
      "metadata": {
        "id": "rRVaAVcaEJw0"
      },
      "source": [
        "# Generating a Multiplication Table for a Given Number"
      ]
    },
    {
      "cell_type": "code",
      "source": [
        "def multiplication_table(number):\n",
        "  for i in range(1, 11):\n",
        "    print(f\"{number} x {i} = {number * i}\")\n",
        "\n",
        "# Get input from the user\n",
        "number = int(input(\"Enter a number: \"))\n",
        "\n",
        "# Generate and print the multiplication table\n",
        "multiplication_table(number)"
      ],
      "metadata": {
        "colab": {
          "base_uri": "https://localhost:8080/"
        },
        "id": "9mfDIrW1OZLo",
        "outputId": "4e9137ae-feb0-434b-8fe7-54773f1029de"
      },
      "execution_count": 52,
      "outputs": [
        {
          "output_type": "stream",
          "name": "stdout",
          "text": [
            "Enter a number: 5\n",
            "5 x 1 = 5\n",
            "5 x 2 = 10\n",
            "5 x 3 = 15\n",
            "5 x 4 = 20\n",
            "5 x 5 = 25\n",
            "5 x 6 = 30\n",
            "5 x 7 = 35\n",
            "5 x 8 = 40\n",
            "5 x 9 = 45\n",
            "5 x 10 = 50\n"
          ]
        }
      ]
    },
    {
      "cell_type": "markdown",
      "metadata": {
        "id": "3V0t9uvBEJw1"
      },
      "source": []
    },
    {
      "cell_type": "markdown",
      "metadata": {
        "id": "FW8yBrJ4EJw1"
      },
      "source": [
        "# Calculating Average of Numbers Using Functions"
      ]
    },
    {
      "cell_type": "code",
      "execution_count": 10,
      "metadata": {
        "colab": {
          "base_uri": "https://localhost:8080/"
        },
        "id": "vugTYYqFEJw1",
        "outputId": "b3642674-f852-4d9f-e1f0-850835bfaf95"
      },
      "outputs": [
        {
          "output_type": "stream",
          "name": "stdout",
          "text": [
            "Enter numbers separated by spaces:\n",
            "5 5 4\n",
            "The average of the numbers is: 4.67\n"
          ]
        }
      ],
      "source": [
        "def calculate_average(numbers):\n",
        "\n",
        "    if not numbers:  # Check if the list is empty\n",
        "        return 0\n",
        "    return sum(numbers) / len(numbers)\n",
        "\n",
        "\n",
        "# Example usage\n",
        "def main():\n",
        "    print(\"Enter numbers separated by spaces:\")\n",
        "    user_input = input()\n",
        "    try:\n",
        "        # Convert input string to a list of floats\n",
        "        numbers = [float(num) for num in user_input.split()]\n",
        "        average = calculate_average(numbers)\n",
        "        print(f\"The average of the numbers is: {average:.2f}\")\n",
        "    except ValueError:\n",
        "        print(\"Please enter valid numbers.\")\n",
        "\n",
        "if __name__ == \"__main__\":\n",
        "    main()\n"
      ]
    },
    {
      "cell_type": "markdown",
      "metadata": {
        "id": "EU07reeqEJw1"
      },
      "source": [
        "# Finding the Longest Word in a List"
      ]
    },
    {
      "cell_type": "code",
      "source": [
        "def find_longest_word(word_list):\n",
        "\n",
        "    if not word_list:  # Check if the list is empty\n",
        "        return None\n",
        "    return max(word_list, key=len)\n",
        "\n",
        "\n",
        "\n",
        "def main():\n",
        "    print(\"Enter words separated by spaces:\")\n",
        "    user_input = input()\n",
        "    words = user_input.split()  # Split input string into a list of words\n",
        "    longest_word = find_longest_word(words)\n",
        "\n",
        "    if longest_word:\n",
        "        print(f\"The longest word is: '{longest_word}'\")\n",
        "    else:\n",
        "        print(\"The list is empty. No words to find.\")\n",
        "\n",
        "if __name__ == \"__main__\":\n",
        "    main()\n"
      ],
      "metadata": {
        "colab": {
          "base_uri": "https://localhost:8080/"
        },
        "id": "n9Hg4rAPHkdy",
        "outputId": "6cc058a8-5e80-4ef0-dd12-5ffe350f43b2"
      },
      "execution_count": 11,
      "outputs": [
        {
          "output_type": "stream",
          "name": "stdout",
          "text": [
            "Enter words separated by spaces:\n",
            "ahmed imad elsayed dhjdk\n",
            "The longest word is: 'elsayed'\n"
          ]
        }
      ]
    },
    {
      "cell_type": "markdown",
      "metadata": {
        "id": "a4qj1gEpEJw2"
      },
      "source": []
    },
    {
      "cell_type": "markdown",
      "metadata": {
        "id": "VgWk6IYTEJw2"
      },
      "source": [
        "# Checking if a Number is Prime"
      ]
    },
    {
      "cell_type": "code",
      "source": [
        "def check_prime(candidate_number):\n",
        "\n",
        "    if candidate_number <= 1:\n",
        "        return False  # Numbers less than or equal to 1 are not prime\n",
        "    for divisor in range(2, int(candidate_number ** 0.5) + 1):  # Check divisors up to √number\n",
        "        if candidate_number % divisor == 0:\n",
        "            return False\n",
        "    return True\n",
        "\n",
        "\n",
        "def main():\n",
        "    print(\"Enter a number to check if it is prime:\")\n",
        "    try:\n",
        "        user_input = int(input())\n",
        "        if check_prime(user_input):\n",
        "            print(f\"{user_input} is a prime number.\")\n",
        "        else:\n",
        "            print(f\"{user_input} is not a prime number.\")\n",
        "    except ValueError:\n",
        "        print(\"Please enter a valid integer.\")\n",
        "\n",
        "if __name__ == \"__main__\":\n",
        "    main()\n"
      ],
      "metadata": {
        "colab": {
          "base_uri": "https://localhost:8080/"
        },
        "id": "lmylg8m7H2gY",
        "outputId": "670aa0ad-612f-45cc-b00e-4c0060748526"
      },
      "execution_count": 13,
      "outputs": [
        {
          "output_type": "stream",
          "name": "stdout",
          "text": [
            "Enter a number to check if it is prime:\n",
            "5\n",
            "5 is a prime number.\n"
          ]
        }
      ]
    },
    {
      "cell_type": "markdown",
      "metadata": {
        "id": "SlIDaEGqEJw2"
      },
      "source": []
    },
    {
      "cell_type": "markdown",
      "metadata": {
        "id": "15nHsQxDEJw2"
      },
      "source": [
        "# Converting Temperature Units"
      ]
    },
    {
      "cell_type": "markdown",
      "metadata": {
        "id": "uO76IGbfEJw3"
      },
      "source": []
    },
    {
      "cell_type": "code",
      "source": [
        "def convert_temperature(temp_value, target_unit):\n",
        "\n",
        "    if target_unit == \"F\":\n",
        "        return (temp_value * 9 / 5) + 32  # Celsius to Fahrenheit\n",
        "    elif target_unit == \"C\":\n",
        "        return (temp_value - 32) * 5 / 9  # Fahrenheit to Celsius\n",
        "    else:\n",
        "        return None\n",
        "\n",
        "\n",
        "def main():\n",
        "    print(\"Enter the temperature value:\")\n",
        "    try:\n",
        "        temp_input = float(input())  # Original temperature value\n",
        "        print(\"Enter the target unit (C for Celsius, F for Fahrenheit):\")\n",
        "        unit_preference = input().strip().upper()  # Target temperature unit\n",
        "\n",
        "        converted_value = convert_temperature(temp_input, unit_preference)\n",
        "        if converted_value is not None:\n",
        "            print(f\"The converted temperature is: {converted_value:.2f}°{unit_preference}\")\n",
        "        else:\n",
        "            print(\"Invalid unit. Please enter 'C' or 'F'.\")\n",
        "    except ValueError:\n",
        "        print(\"Please enter a valid temperature value.\")\n",
        "\n",
        "if __name__ == \"__main__\":\n",
        "    main()\n"
      ],
      "metadata": {
        "colab": {
          "base_uri": "https://localhost:8080/"
        },
        "id": "VglTokwyISN1",
        "outputId": "98ac81bb-f452-4f33-ce01-aa0c3b4e2753"
      },
      "execution_count": 14,
      "outputs": [
        {
          "output_type": "stream",
          "name": "stdout",
          "text": [
            "Enter the temperature value:\n",
            "40\n",
            "Enter the target unit (C for Celsius, F for Fahrenheit):\n",
            "c\n",
            "The converted temperature is: 4.44°C\n"
          ]
        }
      ]
    },
    {
      "cell_type": "markdown",
      "metadata": {
        "id": "ncqOML1XEJw3"
      },
      "source": [
        "# Generating a List of Squares Using List Comprehension and Functions"
      ]
    },
    {
      "cell_type": "code",
      "source": [
        "def create_squares(up_to_value):\n",
        "\n",
        "    return [each_number**2 for each_number in range(1, up_to_value + 1)]\n",
        "\n",
        "\n",
        "\n",
        "def main():\n",
        "    print(\"Enter a number to generate squares up to that value:\")\n",
        "    try:\n",
        "        max_limit = int(input())  # User-provided maximum value\n",
        "        square_results = create_squares(max_limit)  # Generate squares\n",
        "        print(f\"List of squares: {square_results}\")\n",
        "    except ValueError:\n",
        "        print(\"Please enter a valid integer.\")\n",
        "\n",
        "if __name__ == \"__main__\":\n",
        "    main()\n"
      ],
      "metadata": {
        "colab": {
          "base_uri": "https://localhost:8080/"
        },
        "id": "z9qsgXqGIo5F",
        "outputId": "b8b8f7eb-2b8a-419f-a8ce-28cfa2f41cce"
      },
      "execution_count": 15,
      "outputs": [
        {
          "output_type": "stream",
          "name": "stdout",
          "text": [
            "Enter a number to generate squares up to that value:\n",
            "5\n",
            "List of squares: [1, 4, 9, 16, 25]\n"
          ]
        }
      ]
    },
    {
      "cell_type": "markdown",
      "metadata": {
        "id": "IOWnJbnpEJw3"
      },
      "source": []
    },
    {
      "cell_type": "markdown",
      "metadata": {
        "id": "8cYuR5pnEJw4"
      },
      "source": [
        "# Converting a List of Strings to Uppercase"
      ]
    },
    {
      "cell_type": "code",
      "source": [
        "def make_uppercase(word_group):\n",
        "\n",
        "    return [text_item.upper() for text_item in word_group]\n",
        "\n",
        "\n",
        "\n",
        "def main():\n",
        "    print(\"Enter words separated by spaces:\")\n",
        "    try:\n",
        "        raw_input = input()  # Input from the user as a string\n",
        "        string_cluster = raw_input.split()  # Split into a list of strings\n",
        "        transformed_group = make_uppercase(string_cluster)  # Convert to uppercase\n",
        "        print(f\"Uppercase words: {transformed_group}\")\n",
        "    except Exception as err:\n",
        "        print(f\"An error occurred: {err}\")\n",
        "\n",
        "if __name__ == \"__main__\":\n",
        "    main()\n"
      ],
      "metadata": {
        "colab": {
          "base_uri": "https://localhost:8080/"
        },
        "id": "iSaI9EuyJDq1",
        "outputId": "88878771-291c-4729-96f0-7fa133793f6a"
      },
      "execution_count": 16,
      "outputs": [
        {
          "output_type": "stream",
          "name": "stdout",
          "text": [
            "Enter words separated by spaces:\n",
            "ahmed imad\n",
            "Uppercase words: ['AHMED', 'IMAD']\n"
          ]
        }
      ]
    },
    {
      "cell_type": "markdown",
      "metadata": {
        "id": "J9NsXVt4EJw4"
      },
      "source": []
    },
    {
      "cell_type": "markdown",
      "metadata": {
        "id": "W_B9VzAdEJw4"
      },
      "source": [
        "# Calculating the Total Price Including Tax\n"
      ]
    },
    {
      "cell_type": "code",
      "source": [
        "def compute_total_with_tax(base_prices, tax_rate_percentage):\n",
        "\n",
        "    tax_multiplier = 1 + (tax_rate_percentage / 100)\n",
        "    return [price_point * tax_multiplier for price_point in base_prices]\n",
        "\n",
        "\n",
        "\n",
        "def main():\n",
        "    print(\"Enter the item prices separated by spaces:\")\n",
        "    try:\n",
        "        price_inputs = list(map(float, input().split()))  # Convert user input to a list of floats\n",
        "        print(\"Enter the tax rate as a percentage:\")\n",
        "        tax_value = float(input())  # Tax rate entered by the user\n",
        "        total_prices = compute_total_with_tax(price_inputs, tax_value)  # Calculate total prices\n",
        "        print(f\"Total prices including tax: {total_prices}\")\n",
        "    except ValueError:\n",
        "        print(\"Please enter valid numbers for prices and tax rate.\")\n",
        "\n",
        "if __name__ == \"__main__\":\n",
        "    main()\n"
      ],
      "metadata": {
        "colab": {
          "base_uri": "https://localhost:8080/"
        },
        "id": "YjnzleqlJVfi",
        "outputId": "b1f43ffe-64f0-4406-fd7c-5643de718ca4"
      },
      "execution_count": 17,
      "outputs": [
        {
          "output_type": "stream",
          "name": "stdout",
          "text": [
            "Enter the item prices separated by spaces:\n",
            "25 20\n",
            "Enter the tax rate as a percentage:\n",
            "10\n",
            "Total prices including tax: [27.500000000000004, 22.0]\n"
          ]
        }
      ]
    },
    {
      "cell_type": "markdown",
      "metadata": {
        "id": "5tFE6K5AEJw4"
      },
      "source": []
    },
    {
      "cell_type": "markdown",
      "metadata": {
        "id": "v3hS-fT8EJw5"
      },
      "source": [
        "# Finding the Minimum and Maximum Values in a List"
      ]
    },
    {
      "cell_type": "code",
      "source": [
        "def identify_min_max(value_collection):\n",
        "\n",
        "    if not value_collection:\n",
        "        return None, None  # Return None if the list is empty\n",
        "    smallest_value = min(value_collection)\n",
        "    largest_value = max(value_collection)\n",
        "    return smallest_value, largest_value\n",
        "\n",
        "\n",
        "def main():\n",
        "    print(\"Enter numbers separated by spaces:\")\n",
        "    try:\n",
        "        number_series = list(map(float, input().split()))  # Convert user input to a list of floats\n",
        "        smallest, largest = identify_min_max(number_series)  # Find min and max\n",
        "        if smallest is not None:\n",
        "            print(f\"The smallest value is: {smallest}\")\n",
        "            print(f\"The largest value is: {largest}\")\n",
        "        else:\n",
        "            print(\"The list is empty. No values to compare.\")\n",
        "    except ValueError:\n",
        "        print(\"Please enter valid numerical values.\")\n",
        "\n",
        "if __name__ == \"__main__\":\n",
        "    main()\n"
      ],
      "metadata": {
        "colab": {
          "base_uri": "https://localhost:8080/"
        },
        "id": "9Sa1ajgqJj78",
        "outputId": "fcbcb87f-9cc1-4e01-862e-3ab8f0e6a310"
      },
      "execution_count": 18,
      "outputs": [
        {
          "output_type": "stream",
          "name": "stdout",
          "text": [
            "Enter numbers separated by spaces:\n",
            "20 25 35\n",
            "The smallest value is: 20.0\n",
            "The largest value is: 35.0\n"
          ]
        }
      ]
    },
    {
      "cell_type": "markdown",
      "metadata": {
        "id": "9rqDf3lTEJw5"
      },
      "source": []
    },
    {
      "cell_type": "markdown",
      "metadata": {
        "id": "wHN96ad7EJw5"
      },
      "source": [
        "# Checking if a String is a Valid Email Address"
      ]
    },
    {
      "cell_type": "code",
      "source": [
        "import re\n",
        "\n",
        "def validate_email_address(input_email):\n",
        "\n",
        "    email_pattern = r'^[a-zA-Z0-9._%+-]+@[a-zA-Z0-9.-]+\\.[a-zA-Z]{2,}$'\n",
        "    return re.match(email_pattern, input_email) is not None\n",
        "\n",
        "\n",
        "def main():\n",
        "    print(\"Enter an email address to validate:\")\n",
        "    try:\n",
        "        user_provided_text = input().strip()  # User-provided input\n",
        "        validation_result = validate_email_address(user_provided_text)  # Check validity\n",
        "        if validation_result:\n",
        "            print(f\"'{user_provided_text}' is a valid email address.\")\n",
        "        else:\n",
        "            print(f\"'{user_provided_text}' is not a valid email address.\")\n",
        "    except Exception as issue:\n",
        "        print(f\"An error occurred: {issue}\")\n",
        "\n",
        "if __name__ == \"__main__\":\n",
        "    main()\n"
      ],
      "metadata": {
        "colab": {
          "base_uri": "https://localhost:8080/"
        },
        "id": "RU1oWkyCJ2Oq",
        "outputId": "d07c221d-33d9-409a-87a4-42d87ef4c6de"
      },
      "execution_count": 19,
      "outputs": [
        {
          "output_type": "stream",
          "name": "stdout",
          "text": [
            "Enter an email address to validate:\n",
            "ahmed14@gmail.com\n",
            "'ahmed14@gmail.com' is a valid email address.\n"
          ]
        }
      ]
    },
    {
      "cell_type": "markdown",
      "metadata": {
        "id": "kRbn3FLYEJw5"
      },
      "source": []
    },
    {
      "cell_type": "markdown",
      "metadata": {
        "id": "0NKpGuDMEJw6"
      },
      "source": [
        "# Counting the Frequency of Each Character in a String"
      ]
    },
    {
      "cell_type": "code",
      "source": [
        "from collections import Counter\n",
        "\n",
        "def count_char_frequencies(input_string):\n",
        "\n",
        "    return dict(Counter(input_string))\n",
        "\n",
        "\n",
        "def main():\n",
        "    print(\"Enter a string to count the character frequencies:\")\n",
        "    user_input_string = input().strip()  # Get user input\n",
        "    frequency_result = count_char_frequencies(user_input_string)  # Count frequencies\n",
        "    print(\"Character frequencies:\")\n",
        "    for char, freq in frequency_result.items():\n",
        "        print(f\"'{char}': {freq}\")\n",
        "\n",
        "if __name__ == \"__main__\":\n",
        "    main()\n"
      ],
      "metadata": {
        "colab": {
          "base_uri": "https://localhost:8080/"
        },
        "id": "9EJyruXkKF1V",
        "outputId": "b8fb7021-2044-4537-d2df-5207c28c75a1"
      },
      "execution_count": 20,
      "outputs": [
        {
          "output_type": "stream",
          "name": "stdout",
          "text": [
            "Enter a string to count the character frequencies:\n",
            "ahmed\n",
            "Character frequencies:\n",
            "'a': 1\n",
            "'h': 1\n",
            "'m': 1\n",
            "'e': 1\n",
            "'d': 1\n"
          ]
        }
      ]
    },
    {
      "cell_type": "markdown",
      "metadata": {
        "id": "zqsrsGBBEJw6"
      },
      "source": []
    }
  ],
  "metadata": {
    "kernelspec": {
      "display_name": "base",
      "language": "python",
      "name": "python3"
    },
    "language_info": {
      "codemirror_mode": {
        "name": "ipython",
        "version": 3
      },
      "file_extension": ".py",
      "mimetype": "text/x-python",
      "name": "python",
      "nbconvert_exporter": "python",
      "pygments_lexer": "ipython3",
      "version": "3.11.7"
    },
    "colab": {
      "provenance": []
    }
  },
  "nbformat": 4,
  "nbformat_minor": 0
}