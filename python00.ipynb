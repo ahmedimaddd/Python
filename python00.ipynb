{
  "nbformat": 4,
  "nbformat_minor": 0,
  "metadata": {
    "colab": {
      "provenance": []
    },
    "kernelspec": {
      "name": "python3",
      "display_name": "Python 3"
    },
    "language_info": {
      "name": "python"
    }
  },
  "cells": [
    {
      "cell_type": "code",
      "execution_count": 2,
      "metadata": {
        "colab": {
          "base_uri": "https://localhost:8080/"
        },
        "id": "y0SW0VuYdjJo",
        "outputId": "1bcd0068-0f37-477d-ac9b-a847d73dfdd6"
      },
      "outputs": [
        {
          "output_type": "stream",
          "name": "stdout",
          "text": [
            "1505,1540,1575,1610,1645,1680,1715,1750,1785,1820,1855,1890,1925,1960,1995,2030,2065,2100,2135,2170,2205,2240,2275,2310,2345,2380,2415,2450,2485,2520,2555,2590,2625,2660,2695\n"
          ]
        }
      ],
      "source": [
        "# prompt:  1. Write a Python program to find those numbers which are divisible by 7 and multiples of 5, between 1500 and 2700 (both included).\n",
        "\n",
        "nl=[]\n",
        "for x in range(1500, 2701):\n",
        "  if (x%7==0) and (x%5==0):\n",
        "    nl.append(str(x))\n",
        "print (','.join(nl))"
      ]
    },
    {
      "cell_type": "markdown",
      "source": [
        "problem2"
      ],
      "metadata": {
        "id": "genFJ6tjezwl"
      }
    },
    {
      "cell_type": "markdown",
      "source": [],
      "metadata": {
        "id": "pOOYbf_1eoVn"
      }
    },
    {
      "cell_type": "code",
      "source": [
        "# prompt2: . Write a Python program to guess a number between 1 and 9.\n",
        "\n",
        "import random\n",
        "num = random.randint(1, 9)\n",
        "guess = 0\n",
        "while guess != num:\n",
        "    guess = int(input(\"Guess a number between 1 and 9 until you get it right : \"))\n",
        "    if guess == num:\n",
        "        print(\"Well guessed!\")\n",
        "    else:\n",
        "        print(\"Try again!\")"
      ],
      "metadata": {
        "colab": {
          "base_uri": "https://localhost:8080/"
        },
        "id": "4aaj6vHee3z6",
        "outputId": "8c454e13-69ce-470a-e62a-dec48e9f70c0"
      },
      "execution_count": 3,
      "outputs": [
        {
          "output_type": "stream",
          "name": "stdout",
          "text": [
            "Guess a number between 1 and 9 until you get it right : 9\n",
            "Well guessed!\n"
          ]
        }
      ]
    },
    {
      "cell_type": "code",
      "source": [
        "# prompt3: Python program that prints all the numbers from 0 to 6 except 3 and 6.\n",
        "\n",
        "\n",
        "for x in range(7):\n",
        "  if (x == 3 or x == 6):\n",
        "    continue\n",
        "  print(x, end=' ')"
      ],
      "metadata": {
        "colab": {
          "base_uri": "https://localhost:8080/"
        },
        "id": "CI-_RjBEfruT",
        "outputId": "764c4495-a640-4717-ed39-43d8d82abef2"
      },
      "execution_count": 4,
      "outputs": [
        {
          "output_type": "stream",
          "name": "stdout",
          "text": [
            "0 1 2 4 5 "
          ]
        }
      ]
    },
    {
      "cell_type": "code",
      "source": [
        "# prompt: 4. Write a Python program to construct the following pattern, using a nested for loop.\n",
        "\n",
        "r = 5\n",
        "for i in range(0, r):\n",
        "    for j in range(0, i + 1):\n",
        "        print(\"*\", end=' ')\n",
        "    print(\"\\r\")\n",
        "\n",
        "for i in range(r, 0, -1):\n",
        "    for j in range(0, i - 1):\n",
        "        print(\"*\", end=' ')\n",
        "    print(\"\\r\")"
      ],
      "metadata": {
        "colab": {
          "base_uri": "https://localhost:8080/"
        },
        "id": "lnXmrYkrgHIn",
        "outputId": "32b391f9-4a84-40ce-ac5d-17de2aa938eb"
      },
      "execution_count": 6,
      "outputs": [
        {
          "output_type": "stream",
          "name": "stdout",
          "text": [
            "* \r\n",
            "* * \r\n",
            "* * * \r\n",
            "* * * * \r\n",
            "* * * * * \r\n",
            "* * * * \r\n",
            "* * * \r\n",
            "* * \r\n",
            "* \r\n",
            "\r\n"
          ]
        }
      ]
    },
    {
      "cell_type": "code",
      "source": [
        "\n",
        "\n",
        "r = 6\n",
        "for i in range(0, r):\n",
        "    for j in range(0, i + 1):\n",
        "        print(\"*\", end=' ')\n",
        "    print(\"\\r\")\n",
        "\n",
        "for i in range(r, 0, -1):\n",
        "    for j in range(0, i - 1):\n",
        "        print(\"*\", end=' ')\n",
        "    print(\"\\r\")"
      ],
      "metadata": {
        "colab": {
          "base_uri": "https://localhost:8080/"
        },
        "id": "V1WIea79ghLB",
        "outputId": "e8c9ddbc-c32f-40f0-cd13-af5955f61447"
      },
      "execution_count": 10,
      "outputs": [
        {
          "output_type": "stream",
          "name": "stdout",
          "text": [
            "* \r\n",
            "* * \r\n",
            "* * * \r\n",
            "* * * * \r\n",
            "* * * * * \r\n",
            "* * * * * * \r\n",
            "* * * * * \r\n",
            "* * * * \r\n",
            "* * * \r\n",
            "* * \r\n",
            "* \r\n",
            "\r\n"
          ]
        }
      ]
    },
    {
      "cell_type": "code",
      "source": [
        "\n",
        "r = 6\n",
        "for i in range(r):\n",
        "    for j in range(r - i - 1):\n",
        "        print(\" \", end=\"\")\n",
        "    for j in range(i + 1):\n",
        "        print(\"* \", end=\"\")\n",
        "    print()\n",
        "\n",
        "for i in range(r - 1, 0, -1):\n",
        "    for j in range(r - i):\n",
        "        print(\" \", end=\"\")\n",
        "    for j in range(i):\n",
        "        print(\"* \", end=\"\")\n",
        "    print()"
      ],
      "metadata": {
        "colab": {
          "base_uri": "https://localhost:8080/"
        },
        "id": "gNNG2KgzhdKF",
        "outputId": "c5a02a3b-3849-4860-bcbb-d4fc210c1fe7"
      },
      "execution_count": 13,
      "outputs": [
        {
          "output_type": "stream",
          "name": "stdout",
          "text": [
            "     * \n",
            "    * * \n",
            "   * * * \n",
            "  * * * * \n",
            " * * * * * \n",
            "* * * * * * \n",
            " * * * * * \n",
            "  * * * * \n",
            "   * * * \n",
            "    * * \n",
            "     * \n"
          ]
        }
      ]
    },
    {
      "cell_type": "code",
      "source": [
        "\n",
        "def reverse_word():\n",
        "\n",
        "  word = input(\"Enter a word: \")\n",
        "  reversed_word = word[::-1]\n",
        "  print(\"Reversed word:\", reversed_word)\n",
        "\n",
        "if __name__ == \"__main__\":\n",
        "  reverse_word()"
      ],
      "metadata": {
        "colab": {
          "base_uri": "https://localhost:8080/"
        },
        "id": "uR4gsVG1iCKB",
        "outputId": "e0dcc20b-0a10-4d55-c3ed-c7a95ead72c8"
      },
      "execution_count": 15,
      "outputs": [
        {
          "output_type": "stream",
          "name": "stdout",
          "text": [
            "Enter a word: ahmed\n",
            "Reversed word: demha\n"
          ]
        }
      ]
    },
    {
      "cell_type": "code",
      "source": [
        "\n",
        "numbers = (1, 2, 3, 4, 5, 6, 7, 8, 9)\n",
        "count_odd = 0\n",
        "count_even = 0\n",
        "for x in numbers:\n",
        "        if not x % 2:\n",
        "    \t     count_even+=1\n",
        "        else:\n",
        "    \t     count_odd+=1\n",
        "print(\"Number of even numbers :\",count_even)\n",
        "print(\"Number of odd numbers :\",count_odd)"
      ],
      "metadata": {
        "colab": {
          "base_uri": "https://localhost:8080/"
        },
        "id": "VefrAJ1KieCs",
        "outputId": "650a9e9c-1b5f-4763-afa6-e5a4b39d22ee"
      },
      "execution_count": 17,
      "outputs": [
        {
          "output_type": "stream",
          "name": "stdout",
          "text": [
            "Number of even numbers : 4\n",
            "Number of odd numbers : 5\n"
          ]
        }
      ]
    },
    {
      "cell_type": "code",
      "source": [
        "\n",
        "def print_alphabet_pattern(name):\n",
        "\n",
        "\n",
        "  # We'll just print a simple \"A\" pattern as an example.\n",
        "  print(\"  ***  \")\n",
        "  print(\" *   * \")\n",
        "  print(\" *   * \")\n",
        "  print(\" ***** \")\n",
        "  print(\" *   * \")\n",
        "  print(\" *   * \")\n",
        "  print(\" *   * \")\n",
        "\n",
        "\n",
        "if __name__ == \"__main__\":\n",
        "  your_name = \"Your Name\"\n",
        "  print_alphabet_pattern(your_name)"
      ],
      "metadata": {
        "colab": {
          "base_uri": "https://localhost:8080/"
        },
        "id": "LQzEXFjvjLb6",
        "outputId": "8261663f-60f7-491e-b554-2163dcba9b15"
      },
      "execution_count": 20,
      "outputs": [
        {
          "output_type": "stream",
          "name": "stdout",
          "text": [
            "  ***  \n",
            " *   * \n",
            " *   * \n",
            " ***** \n",
            " *   * \n",
            " *   * \n",
            " *   * \n"
          ]
        }
      ]
    },
    {
      "cell_type": "code",
      "source": [
        "\n",
        "\n",
        "def multiplication_table(number):\n",
        "\n",
        "  for i in range(1, 11):\n",
        "    print(f\"{number} x {i} = {number * i}\")\n",
        "\n",
        "# Get input from the user\n",
        "number = int(input(\"Enter a number: \"))\n",
        "\n",
        "# Generate and print the multiplication table\n",
        "multiplication_table(number)"
      ],
      "metadata": {
        "colab": {
          "base_uri": "https://localhost:8080/"
        },
        "id": "HUGzyS6Cj3jZ",
        "outputId": "bee3ecfd-f8da-4709-fbf4-61e5ce896536"
      },
      "execution_count": 22,
      "outputs": [
        {
          "output_type": "stream",
          "name": "stdout",
          "text": [
            "Enter a number: 7\n",
            "7 x 1 = 7\n",
            "7 x 2 = 14\n",
            "7 x 3 = 21\n",
            "7 x 4 = 28\n",
            "7 x 5 = 35\n",
            "7 x 6 = 42\n",
            "7 x 7 = 49\n",
            "7 x 8 = 56\n",
            "7 x 9 = 63\n",
            "7 x 10 = 70\n"
          ]
        }
      ]
    },
    {
      "cell_type": "code",
      "source": [
        "\n",
        "def calculate_sum_and_average():\n",
        "\n",
        "  nums = []\n",
        "  while True:\n",
        "    try:\n",
        "      num = int(input(\"Enter an integer (0 to finish): \"))\n",
        "      if num == 0:\n",
        "        break\n",
        "      nums.append(num)\n",
        "    except ValueError:\n",
        "      print(\"Invalid input. Please enter an integer.\")\n",
        "\n",
        "  if not nums:\n",
        "    print(\"No numbers entered.\")\n",
        "    return\n",
        "\n",
        "  SoF = sum(nums)\n",
        "  average = SoF / len(nums)\n",
        "\n",
        "  print(f\"Sum: {SoF}\")\n",
        "  print(f\"Average: {average}\")\n",
        "\n",
        "\n",
        "if __name__ == \"__main__\":\n",
        "  calculate_sum_and_average()"
      ],
      "metadata": {
        "colab": {
          "base_uri": "https://localhost:8080/"
        },
        "id": "PDG1z3q0kIeh",
        "outputId": "284cfdf5-43fe-46b3-9acf-15c07303a23a"
      },
      "execution_count": 27,
      "outputs": [
        {
          "output_type": "stream",
          "name": "stdout",
          "text": [
            "Enter an integer (0 to finish): 1\n",
            "Enter an integer (0 to finish): 5\n",
            "Enter an integer (0 to finish): 3\n",
            "Enter an integer (0 to finish): 0\n",
            "Sum: 9\n",
            "Average: 3.0\n"
          ]
        }
      ]
    },
    {
      "cell_type": "code",
      "source": [
        "\n",
        "def fibonacci_sequence(n):\n",
        "\n",
        "  if n <= 0:\n",
        "    return []\n",
        "  elif n == 1:\n",
        "    return [0]\n",
        "  else:\n",
        "    list_fib = [0, 1]\n",
        "    while len(list_fib) < n:\n",
        "      next_fib = list_fib[-1] + list_fib[-2]\n",
        "      list_fib.append(next_fib)\n",
        "    return list_fib\n",
        "\n",
        "# Get input from the user\n",
        "num_terms = int(input(\"Enter the number of terms: \"))\n",
        "\n",
        "# Generate and print the Fibonacci sequence\n",
        "fib_sequence = fibonacci_sequence(num_terms)\n",
        "print(\"Fibonacci Sequence:\", fib_sequence)"
      ],
      "metadata": {
        "colab": {
          "base_uri": "https://localhost:8080/"
        },
        "id": "SXy0kfBfk1n8",
        "outputId": "408862c2-b787-4ff4-933b-c07f5b4662b5"
      },
      "execution_count": 29,
      "outputs": [
        {
          "output_type": "stream",
          "name": "stdout",
          "text": [
            "Enter the number of terms: 5\n",
            "Fibonacci Sequence: [0, 1, 1, 2, 3]\n"
          ]
        }
      ]
    },
    {
      "cell_type": "code",
      "source": [
        "\n",
        "def find_maximum(numbers):\n",
        "  \"\"\"Finds the maximum value in a list of numbers.\"\"\"\n",
        "  if not numbers:\n",
        "    return None  # Handle empty list case\n",
        "\n",
        "  maximum = numbers[0]\n",
        "  for number in numbers:\n",
        "    if number > maximum:\n",
        "      maximum = number\n",
        "  return maximum\n",
        "\n",
        "# Example usage:\n",
        "my_list = [1, 5, 2, 9, 3, 7]\n",
        "max_value = find_maximum(my_list)\n",
        "\n",
        "if max_value is not None:\n",
        "  print(\"The maximum value in the list is:\", max_value)\n",
        "else:\n",
        "  print(\"The list is empty.\")"
      ],
      "metadata": {
        "colab": {
          "base_uri": "https://localhost:8080/"
        },
        "id": "Um99efdslbSN",
        "outputId": "744af18f-df56-4b77-b472-5dd111b52db3"
      },
      "execution_count": 30,
      "outputs": [
        {
          "output_type": "stream",
          "name": "stdout",
          "text": [
            "The maximum value in the list is: 9\n"
          ]
        }
      ]
    },
    {
      "cell_type": "code",
      "source": [
        "\n",
        "def count_vowels(input_string):\n",
        "\n",
        "  vowels = \"aeiouAEIOU\"\n",
        "  vowel_count = 0\n",
        "  for char in input_string:\n",
        "    if char in vowels:\n",
        "      vowel_count += 1\n",
        "  return vowel_count\n",
        "\n",
        "\n",
        "# Example usage:\n",
        "my_string = \"Hello, World!\"\n",
        "num_vowels = count_vowels(my_string)\n",
        "print(f\"The number of vowels in '{my_string}' is: {num_vowels}\")"
      ],
      "metadata": {
        "colab": {
          "base_uri": "https://localhost:8080/"
        },
        "id": "MJZD7BcjlhEH",
        "outputId": "38867341-c0a9-4adc-c280-6e67df0a41cd"
      },
      "execution_count": 31,
      "outputs": [
        {
          "output_type": "stream",
          "name": "stdout",
          "text": [
            "The number of vowels in 'Hello, World!' is: 3\n"
          ]
        }
      ]
    },
    {
      "cell_type": "code",
      "source": [
        "\n",
        "def find_prime_numbers(start, end):\n",
        "\n",
        "  prime_numbers = []\n",
        "  for num in range(start, end + 1):\n",
        "    if num > 1:\n",
        "      is_prime = True\n",
        "      for i in range(2, int(num**0.5) + 1):\n",
        "        if num % i == 0:\n",
        "          is_prime = False\n",
        "          break\n",
        "      if is_prime:\n",
        "        prime_numbers.append(num)\n",
        "  return prime_numbers\n",
        "\n",
        "# Example usage:\n",
        "start_range = 10\n",
        "end_range = 50\n",
        "prime_list = find_prime_numbers(start_range, end_range)\n",
        "print(f\"Prime numbers between {start_range} and {end_range}: {prime_list}\")"
      ],
      "metadata": {
        "colab": {
          "base_uri": "https://localhost:8080/"
        },
        "id": "umpNzqQOlrKM",
        "outputId": "8aebcdc4-003a-4c08-8f56-dee5db738070"
      },
      "execution_count": 32,
      "outputs": [
        {
          "output_type": "stream",
          "name": "stdout",
          "text": [
            "Prime numbers between 10 and 50: [11, 13, 17, 19, 23, 29, 31, 37, 41, 43, 47]\n"
          ]
        }
      ]
    },
    {
      "cell_type": "code",
      "source": [
        "\n",
        "def atm_withdrawal():\n",
        "\n",
        "  balance = 1000  # Initial account balance\n",
        "\n",
        "  print(\"Welcome to the ATM!\")\n",
        "\n",
        "  while True:\n",
        "    print(\"\\nChoose an option:\")\n",
        "    print(\"1. Check Balance\")\n",
        "    print(\"2. Withdraw Funds\")\n",
        "    print(\"3. Exit\")\n",
        "\n",
        "    choice = input(\"Enter your choice (1-3): \")\n",
        "\n",
        "    if choice == '1':\n",
        "      print(f\"Your balance is: ${balance}\")\n",
        "    elif choice == '2':\n",
        "      amount = float(input(\"Enter the amount to withdraw: $\"))\n",
        "      if amount > balance:\n",
        "        print(\"Insufficient funds.\")\n",
        "      elif amount <= 0:\n",
        "        print(\"Invalid withdrawal amount.\")\n",
        "      else:\n",
        "        balance -= amount\n",
        "        print(f\"${amount} withdrawn successfully.\")\n",
        "        print(f\"Your new balance is: ${balance}\")\n",
        "    elif choice == '3':\n",
        "      print(\"Thank you for using the ATM!\")\n",
        "      break\n",
        "    else:\n",
        "      print(\"Invalid choice. Please try again.\")\n",
        "\n",
        "\n",
        "if __name__ == \"__main__\":\n",
        "  atm_withdrawal()"
      ],
      "metadata": {
        "colab": {
          "base_uri": "https://localhost:8080/"
        },
        "id": "KlJFxI_Il1dF",
        "outputId": "ef87d471-b0ae-42f2-c2f1-118729374f48"
      },
      "execution_count": 33,
      "outputs": [
        {
          "output_type": "stream",
          "name": "stdout",
          "text": [
            "Welcome to the ATM!\n",
            "\n",
            "Choose an option:\n",
            "1. Check Balance\n",
            "2. Withdraw Funds\n",
            "3. Exit\n",
            "Enter your choice (1-3): 1\n",
            "Your balance is: $1000\n",
            "\n",
            "Choose an option:\n",
            "1. Check Balance\n",
            "2. Withdraw Funds\n",
            "3. Exit\n",
            "Enter your choice (1-3): 2\n",
            "Enter the amount to withdraw: $100\n",
            "$100.0 withdrawn successfully.\n",
            "Your new balance is: $900.0\n",
            "\n",
            "Choose an option:\n",
            "1. Check Balance\n",
            "2. Withdraw Funds\n",
            "3. Exit\n",
            "Enter your choice (1-3): 3\n",
            "Thank you for using the ATM!\n"
          ]
        }
      ]
    },
    {
      "cell_type": "code",
      "source": [
        "\n",
        "list1 = [1, 2, 3, 4, 5]\n",
        "list2 = [3, 5, 6, 7, 8]\n",
        "\n",
        "common_elements = []\n",
        "for element in list1:\n",
        "  if element in list2:\n",
        "    common_elements.append(element)\n",
        "\n",
        "print(\"Common elements:\", common_elements)"
      ],
      "metadata": {
        "colab": {
          "base_uri": "https://localhost:8080/"
        },
        "id": "ZYV6S7OLmHRU",
        "outputId": "cf4bd67b-9083-4d7f-928e-56eea0e56856"
      },
      "execution_count": 34,
      "outputs": [
        {
          "output_type": "stream",
          "name": "stdout",
          "text": [
            "Common elements: [3, 5]\n"
          ]
        }
      ]
    },
    {
      "cell_type": "code",
      "source": [
        "\n",
        "def factorial(n):\n",
        "\n",
        "  if n == 0:\n",
        "    return 1\n",
        "  else:\n",
        "    return n * factorial(n - 1)\n",
        "\n",
        "# Get input from the user\n",
        "number = int(input(\"Enter a number: \"))\n",
        "\n",
        "# Calculate and print the factorial\n",
        "fact = factorial(number)\n",
        "print(f\"The factorial of {number} is: {fact}\")"
      ],
      "metadata": {
        "colab": {
          "base_uri": "https://localhost:8080/"
        },
        "id": "5AF5_zdVmUxJ",
        "outputId": "75604a99-c83a-42be-f881-441b60bbbefb"
      },
      "execution_count": 36,
      "outputs": [
        {
          "output_type": "stream",
          "name": "stdout",
          "text": [
            "Enter a number: 5\n",
            "The factorial of 5 is: 120\n"
          ]
        }
      ]
    },
    {
      "cell_type": "code",
      "source": [
        "\n",
        "def validate_user_input():\n",
        "\n",
        "  while True:\n",
        "    try:\n",
        "      user_input = int(input(\"Enter an integer between 1 and 10: \"))\n",
        "      if 1 <= user_input <= 10:\n",
        "        print(\"Valid input:\", user_input)\n",
        "        break\n",
        "      else:\n",
        "        print(\"Input must be between 1 and 10. Please try again.\")\n",
        "    except ValueError:\n",
        "      print(\"Invalid input. Please enter an integer.\")\n",
        "\n",
        "if __name__ == \"__main__\":\n",
        "  validate_user_input()"
      ],
      "metadata": {
        "colab": {
          "base_uri": "https://localhost:8080/"
        },
        "id": "Jke8bD31mhF3",
        "outputId": "245d9a08-0cfa-4f30-ada5-820ad8a562cd"
      },
      "execution_count": 38,
      "outputs": [
        {
          "output_type": "stream",
          "name": "stdout",
          "text": [
            "Enter an integer between 1 and 10: 100\n",
            "Input must be between 1 and 10. Please try again.\n",
            "Enter an integer between 1 and 10: 1\n",
            "Valid input: 1\n"
          ]
        }
      ]
    },
    {
      "cell_type": "code",
      "source": [
        "\n",
        "def sum_of_digits(number):\n",
        "  \"\"\"Calculates the sum of the digits of a given number.\"\"\"\n",
        "  sum_digits = 0\n",
        "  for digit in str(number):\n",
        "    sum_digits += int(digit)\n",
        "  return sum_digits\n",
        "\n",
        "# Example usage:\n",
        "number = 12345\n",
        "sum_digits = sum_of_digits(number)\n",
        "print(f\"The sum of digits of {number} is: {sum_digits}\")"
      ],
      "metadata": {
        "colab": {
          "base_uri": "https://localhost:8080/"
        },
        "id": "P2AnP11hmvMB",
        "outputId": "bb4db517-47c7-470c-9115-61480c47fc53"
      },
      "execution_count": 39,
      "outputs": [
        {
          "output_type": "stream",
          "name": "stdout",
          "text": [
            "The sum of digits of 12345 is: 15\n"
          ]
        }
      ]
    },
    {
      "cell_type": "code",
      "source": [
        "\n",
        "def is_palindrome(text):\n",
        "  processed_text = text.lower().replace(\" \", \"\")  # Ignore case and spaces\n",
        "  return processed_text == processed_text[::-1]\n",
        "\n",
        "# Example usage:\n",
        "string1 = \"ahmad\"\n",
        "string2 = \"is\"\n",
        "string3 = \"A footballer\"\n",
        "\n",
        "print(f\"'{string1}' is a palindrome: {is_palindrome(string1)}\")\n",
        "print(f\"'{string2}' is a palindrome: {is_palindrome(string2)}\")\n",
        "print(f\"'{string3}' is a palindrome: {is_palindrome(string3)}\")"
      ],
      "metadata": {
        "colab": {
          "base_uri": "https://localhost:8080/"
        },
        "id": "LppavGEUm2_E",
        "outputId": "beaf916a-3dcb-4986-c123-183f701ae42d"
      },
      "execution_count": 43,
      "outputs": [
        {
          "output_type": "stream",
          "name": "stdout",
          "text": [
            "'ahmad' is a palindrome: False\n",
            "'is' is a palindrome: False\n",
            "'A footballer' is a palindrome: False\n"
          ]
        }
      ]
    },
    {
      "cell_type": "code",
      "source": [
        "\n",
        "k = ['a', 'b', 'c']\n",
        "vals = [1, 2, 3]\n",
        "\n",
        "my_dict = dict(zip(k, vals))\n",
        "my_dict"
      ],
      "metadata": {
        "colab": {
          "base_uri": "https://localhost:8080/"
        },
        "id": "nzMbhYdBnJor",
        "outputId": "777d3a03-b800-4a46-fc3b-5e55ed99cbb8"
      },
      "execution_count": 45,
      "outputs": [
        {
          "output_type": "execute_result",
          "data": {
            "text/plain": [
              "{'a': 1, 'b': 2, 'c': 3}"
            ]
          },
          "metadata": {},
          "execution_count": 45
        }
      ]
    },
    {
      "cell_type": "code",
      "source": [
        "# prompt: Simulating a Simple Password Check\n",
        "\n",
        "def check_password(password):\n",
        "\n",
        "  if len(password) < 8:\n",
        "    return False  # Password must be at least 8 characters long\n",
        "\n",
        "  has_uppercase = False\n",
        "  has_lowercase = False\n",
        "  has_digit = False\n",
        "  has_special_char = False\n",
        "\n",
        "  for char in password:\n",
        "    if 'A' <= char <= 'Z':\n",
        "      has_uppercase = True\n",
        "    elif 'a' <= char <= 'z':\n",
        "      has_lowercase = True\n",
        "    elif '0' <= char <= '9':\n",
        "      has_digit = True\n",
        "    elif not char.isalnum():  # Check for special characters\n",
        "      has_special_char = True\n",
        "\n",
        "  return has_uppercase and has_lowercase and has_digit and has_special_char\n",
        "\n",
        "# Example usage:\n",
        "password1 = \"Password123!\"\n",
        "password2 = \"weakpassword\"\n",
        "password3 = \"P@$$wOrd\"\n",
        "\n",
        "if check_password(password1):\n",
        "  print(f\"'{password1}' is a valid password.\")\n",
        "else:\n",
        "  print(f\"'{password1}' is not a valid password.\")\n",
        "\n",
        "if check_password(password2):\n",
        "  print(f\"'{password2}' is a valid password.\")\n",
        "else:\n",
        "  print(f\"'{password2}' is not a valid password.\")\n",
        "\n",
        "if check_password(password3):\n",
        "  print(f\"'{password3}' is a valid password.\")\n",
        "else:\n",
        "  print(f\"'{password3}' is not a valid password.\")"
      ],
      "metadata": {
        "colab": {
          "base_uri": "https://localhost:8080/"
        },
        "id": "MmslFy3LnlXk",
        "outputId": "78fdbf30-d0e0-4ca4-8cd7-9f092f9105f0"
      },
      "execution_count": 46,
      "outputs": [
        {
          "output_type": "stream",
          "name": "stdout",
          "text": [
            "'Password123!' is a valid password.\n",
            "'weakpassword' is not a valid password.\n",
            "'P@$$wOrd' is not a valid password.\n"
          ]
        }
      ]
    },
    {
      "cell_type": "code",
      "source": [
        "\n",
        "def multiplication_table(number):\n",
        "  \"\"\"Generates and prints the multiplication table for a given number.\"\"\"\n",
        "  for i in range(1, 11):\n",
        "    print(f\"{number} x {i} = {number * i}\")\n",
        "\n",
        "# Get input from the user\n",
        "number = int(input(\"Enter a number: \"))\n",
        "\n",
        "# Generate and print the multiplication table\n",
        "multiplication_table(number)"
      ],
      "metadata": {
        "colab": {
          "base_uri": "https://localhost:8080/"
        },
        "id": "1cSf2tdjnwy8",
        "outputId": "e238345c-2e36-4a6d-d1eb-0ede25f2f8b5"
      },
      "execution_count": 47,
      "outputs": [
        {
          "output_type": "stream",
          "name": "stdout",
          "text": [
            "Enter a number: 5\n",
            "5 x 1 = 5\n",
            "5 x 2 = 10\n",
            "5 x 3 = 15\n",
            "5 x 4 = 20\n",
            "5 x 5 = 25\n",
            "5 x 6 = 30\n",
            "5 x 7 = 35\n",
            "5 x 8 = 40\n",
            "5 x 9 = 45\n",
            "5 x 10 = 50\n"
          ]
        }
      ]
    }
  ]
}